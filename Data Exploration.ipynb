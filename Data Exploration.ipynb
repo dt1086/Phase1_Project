{
 "cells": [
  {
   "cell_type": "markdown",
   "metadata": {},
   "source": [
    "# Data Exploration - this is updated 11:28AM Tues"
   ]
  },
  {
   "cell_type": "markdown",
   "metadata": {},
   "source": [
    "## 1. Importing data into DataFrames"
   ]
  },
  {
   "cell_type": "code",
   "execution_count": null,
   "metadata": {},
   "outputs": [],
   "source": [
    "import pandas as pd\n",
    "import seaborn as sns\n",
    "import matplotlib.pyplot as plt"
   ]
  },
  {
   "cell_type": "code",
   "execution_count": null,
   "metadata": {},
   "outputs": [],
   "source": [
    "df_mojo_gross = pd.read_csv('bom.movie_gross.csv.gz')\n",
    "df_imdb_name_basics = pd.read_csv('imdb.name.basics.csv.gz')\n",
    "df_imdb_title = pd.read_csv('imdb.title.akas.csv.gz')\n",
    "df_imdb_basics = pd.read_csv('imdb.title.basics.csv.gz')\n",
    "df_imdb_title_crew = pd.read_csv('imdb.title.crew.csv.gz')\n",
    "df_imdb_title_principals = pd.read_csv('imdb.title.principals.csv.gz')\n",
    "df_imdb_title_ratings = pd.read_csv('imdb.title.ratings.csv.gz')\n",
    "df_rt_movie_info = pd.read_csv('rt.movie_info.tsv.gz', sep='\\t', encoding = 'unicode_escape')\n",
    "df_rt_reviews = pd.read_csv('rt.reviews.tsv.gz', sep='\\t', encoding = 'unicode_escape')\n",
    "df_tmdb_movies = pd.read_csv('tmdb.movies.csv.gz')\n",
    "df_tn_movie_budgets = pd.read_csv('tn.movie_budgets.csv.gz')"
   ]
  },
  {
   "cell_type": "code",
   "execution_count": null,
   "metadata": {},
   "outputs": [],
   "source": [
    "list_of_data = [df_mojo_gross, df_imdb_name_basics, df_imdb_title, df_imdb_basics, df_imdb_title_crew,\n",
    "               df_imdb_title_principals, df_imdb_title_ratings, df_rt_movie_info, df_rt_reviews, df_tmdb_movies, \n",
    "                df_tn_movie_budgets]"
   ]
  },
  {
   "cell_type": "markdown",
   "metadata": {},
   "source": [
    "## 2. Previewing DataFrames"
   ]
  },
  {
   "cell_type": "code",
   "execution_count": null,
   "metadata": {
    "scrolled": true
   },
   "outputs": [],
   "source": [
    "for df in list_of_data:\n",
    "    display(df.head())"
   ]
  },
  {
   "cell_type": "code",
   "execution_count": null,
   "metadata": {},
   "outputs": [],
   "source": [
    "for df in list_of_data:\n",
    "    display(df.shape)"
   ]
  },
  {
   "cell_type": "markdown",
   "metadata": {},
   "source": [
    "## 3. Visualizing DataFrames"
   ]
  },
  {
   "cell_type": "code",
   "execution_count": null,
   "metadata": {
    "scrolled": true
   },
   "outputs": [],
   "source": [
    "df_tn_movie_budgets.info()"
   ]
  },
  {
   "cell_type": "markdown",
   "metadata": {},
   "source": [
    "Converting production_budget, domestic_gross and worldwide_gross from strings into floats:"
   ]
  },
  {
   "cell_type": "code",
   "execution_count": null,
   "metadata": {
    "scrolled": true
   },
   "outputs": [],
   "source": [
    "df_tn_movie_budgets['production_budget_edited'] = df_tn_movie_budgets.production_budget.str.replace('$', '')\n",
    "df_tn_movie_budgets['production_budget_edited'] = df_tn_movie_budgets['production_budget_edited'].str.replace(',', '')\n",
    "df_tn_movie_budgets['production_budget_edited'] = df_tn_movie_budgets['production_budget_edited'].astype(float)\n",
    "\n",
    "df_tn_movie_budgets['domestic_gross_edited'] = df_tn_movie_budgets.domestic_gross.str.replace('$', '')\n",
    "df_tn_movie_budgets['domestic_gross_edited'] = df_tn_movie_budgets['domestic_gross_edited'].str.replace(',', '')\n",
    "df_tn_movie_budgets['domestic_gross_edited'] = df_tn_movie_budgets['domestic_gross_edited'].astype(float)\n",
    "\n",
    "df_tn_movie_budgets['worldwide_gross_edited'] = df_tn_movie_budgets.worldwide_gross.str.replace('$', '')\n",
    "df_tn_movie_budgets['worldwide_gross_edited'] = df_tn_movie_budgets['worldwide_gross_edited'].str.replace(',', '')\n",
    "df_tn_movie_budgets['worldwide_gross_edited'] = df_tn_movie_budgets['worldwide_gross_edited'].astype(float)\n",
    "\n",
    "df_tn_movie_budgets.head()"
   ]
  },
  {
   "cell_type": "markdown",
   "metadata": {},
   "source": [
    "Making the basis in $M."
   ]
  },
  {
   "cell_type": "code",
   "execution_count": null,
   "metadata": {},
   "outputs": [],
   "source": [
    "df_tn_movie_budgets['production_budget_edited'] = df_tn_movie_budgets['production_budget_edited'] / 1000000\n",
    "df_tn_movie_budgets['domestic_gross_edited'] = df_tn_movie_budgets['domestic_gross_edited'] / 1000000\n",
    "df_tn_movie_budgets['worldwide_gross_edited'] = df_tn_movie_budgets['worldwide_gross_edited'] / 1000000\n",
    "\n",
    "df_tn_movie_budgets.head()"
   ]
  },
  {
   "cell_type": "code",
   "execution_count": null,
   "metadata": {},
   "outputs": [],
   "source": [
    "ax = sns.scatterplot(x=df_tn_movie_budgets['production_budget_edited'], y=df_tn_movie_budgets['worldwide_gross_edited'])\n",
    "\n",
    "ax.set_title('Production Budget vs. Worldwide Gross ($M)')\n",
    "ax.set_ylabel('Worldwide Gross ($M)')\n",
    "ax.set_xlabel('Production Budget ($M)')\n",
    "\n",
    "ax.text(df_tn_movie_budgets.production_budget_edited[df_tn_movie_budgets.movie=='Avatar'],\n",
    "        df_tn_movie_budgets.worldwide_gross_edited[df_tn_movie_budgets.movie=='Avatar'],\n",
    "         \"Avatar\", color='red');"
   ]
  },
  {
   "cell_type": "markdown",
   "metadata": {},
   "source": [
    "Calculating an ROI figure."
   ]
  },
  {
   "cell_type": "code",
   "execution_count": null,
   "metadata": {},
   "outputs": [],
   "source": [
    "df_tn_movie_budgets['ROI'] = df_tn_movie_budgets['worldwide_gross_edited'] / df_tn_movie_budgets['production_budget_edited']\n",
    "\n",
    "df_tn_movie_budgets.head()"
   ]
  },
  {
   "cell_type": "code",
   "execution_count": null,
   "metadata": {
    "scrolled": true
   },
   "outputs": [],
   "source": [
    "df_tn_movie_budgets_ROIaboveX = df_tn_movie_budgets[df_tn_movie_budgets['ROI'] >= 5]\n",
    "\n",
    "df_tn_movie_budgets_ROIaboveX.head()"
   ]
  },
  {
   "cell_type": "markdown",
   "metadata": {},
   "source": [
    "Showing movies with ROI > 5"
   ]
  },
  {
   "cell_type": "code",
   "execution_count": null,
   "metadata": {},
   "outputs": [],
   "source": [
    "fig, ax = plt.subplots()\n",
    "\n",
    "ax.scatter(x=df_tn_movie_budgets['production_budget_edited'], y=df_tn_movie_budgets['worldwide_gross_edited'])\n",
    "ax.scatter(x=df_tn_movie_budgets_ROIaboveX['production_budget_edited'], \n",
    "           y=df_tn_movie_budgets_ROIaboveX['worldwide_gross_edited'], label='ROI Above 5')\n",
    "\n",
    "ax.set_title('Production Budget vs. Worldwide Gross ($M)')\n",
    "ax.set_ylabel('Worldwide Gross ($M)')\n",
    "ax.set_xlabel('Production Budget ($M)')\n",
    "ax.legend(loc='upper left');"
   ]
  },
  {
   "cell_type": "code",
   "execution_count": null,
   "metadata": {
    "scrolled": true
   },
   "outputs": [],
   "source": [
    "df_tn_movie_budgets_ROIaboveX.sort_values('ROI', ascending=False)"
   ]
  },
  {
   "cell_type": "markdown",
   "metadata": {},
   "source": [
    "Only interested in relevant movies - post 2009"
   ]
  },
  {
   "cell_type": "code",
   "execution_count": null,
   "metadata": {
    "scrolled": false
   },
   "outputs": [],
   "source": [
    "df_tn_movie_budgets_ROIaboveX['Year'] = df_tn_movie_budgets_ROIaboveX['release_date'].str[-4:]*1\n",
    "df_tn_movie_budgets_ROIaboveX['Year'] = df_tn_movie_budgets_ROIaboveX['Year'].astype(int)\n",
    "df_tn_movie_budgets_ROIaboveX.head()"
   ]
  },
  {
   "cell_type": "code",
   "execution_count": null,
   "metadata": {},
   "outputs": [],
   "source": [
    "df_tn_movie_budgets_post2009 = df_tn_movie_budgets_ROIaboveX[df_tn_movie_budgets_ROIaboveX['Year'] >= 2009]\n",
    "df_tn_movie_budgets_post2009.head()"
   ]
  },
  {
   "cell_type": "code",
   "execution_count": null,
   "metadata": {},
   "outputs": [],
   "source": [
    "df_tn_movie_budgets_post2009.shape"
   ]
  },
  {
   "cell_type": "markdown",
   "metadata": {},
   "source": [
    "In order to translte the genre_ids into meaningful genre names, we must retrieve the genre key from TMDB:"
   ]
  },
  {
   "cell_type": "code",
   "execution_count": null,
   "metadata": {},
   "outputs": [],
   "source": [
    "api_key = \"d012e23fce658ca5d5707ca650488781\"\n",
    "\n",
    "import requests\n",
    "\n",
    "url = 'https://api.themoviedb.org/3/genre/movie/list?api_key={}&language=en-US'.format(api_key)\n",
    "\n",
    "tmdb_genre = requests.get(url)\n",
    "print(tmdb_genre)\n",
    "print(type(tmdb_genre.content))\n",
    "print(tmdb_genre.text)"
   ]
  },
  {
   "cell_type": "code",
   "execution_count": null,
   "metadata": {},
   "outputs": [],
   "source": [
    "tmdb_genre = tmdb_genre.json()\n",
    "tmdb_genre"
   ]
  },
  {
   "cell_type": "markdown",
   "metadata": {},
   "source": [
    "Retrieving genre keys from the TMDB api and converting into a python dictionary to be used later to convert genre_id to meaningful labels"
   ]
  },
  {
   "cell_type": "code",
   "execution_count": null,
   "metadata": {},
   "outputs": [],
   "source": [
    "tmdb_genre_dict = {}\n",
    "\n",
    "for x in range(len(tmdb_genre['genres'])):\n",
    "    entry = {tmdb_genre['genres'][x]['id']: tmdb_genre['genres'][x]['name']}\n",
    "    tmdb_genre_dict.update(entry)\n",
    "\n",
    "tmdb_genre_dict"
   ]
  },
  {
   "cell_type": "markdown",
   "metadata": {},
   "source": [
    "Converting the dictionary keys from int to str to match genre_id"
   ]
  },
  {
   "cell_type": "code",
   "execution_count": null,
   "metadata": {},
   "outputs": [],
   "source": [
    "keys_values = tmdb_genre_dict.items()\n",
    "\n",
    "tmdb_genre_dict = {str(key): str(value) for key, value in keys_values}\n",
    "tmdb_genre_dict"
   ]
  },
  {
   "cell_type": "code",
   "execution_count": null,
   "metadata": {},
   "outputs": [],
   "source": [
    "df_tmdb_movies.head()"
   ]
  },
  {
   "cell_type": "code",
   "execution_count": null,
   "metadata": {},
   "outputs": [],
   "source": [
    "df_tmdb_movies['genre_ids'][0]"
   ]
  },
  {
   "cell_type": "markdown",
   "metadata": {},
   "source": [
    "Cleaning genre_id column to parse through in the future "
   ]
  },
  {
   "cell_type": "code",
   "execution_count": null,
   "metadata": {
    "scrolled": true
   },
   "outputs": [],
   "source": [
    "df_tmdb_movies['genre'] = df_tmdb_movies['genre_ids'].str.strip('[]')\n",
    "df_tmdb_movies['genre'] = df_tmdb_movies['genre'].str.replace(' ', '')\n",
    "df_tmdb_movies['genre'] = df_tmdb_movies['genre'].str.split(',')\n",
    "\n",
    "df_tmdb_movies.head()"
   ]
  },
  {
   "cell_type": "code",
   "execution_count": null,
   "metadata": {},
   "outputs": [],
   "source": [
    "# display(df_tn_movie_budgets)\n",
    "# display(df_tmdb_movies)\n",
    "\n",
    "# df_tn_movie_budgets.query(\"movie == 'Harry Potter and the Deathly Hallows: Part 1'\")\n",
    "print('TMDB DF SHAPE:',df_tmdb_movies.shape)\n",
    "print('TNBUD DF SHAPE:',df_tn_movie_budgets.shape)"
   ]
  },
  {
   "cell_type": "markdown",
   "metadata": {},
   "source": [
    "We had to decide how we want to join our two tables. Our questions are mainly centered around budget so we came to the conclusion that we will only factor movies that we have budget and rating data for. "
   ]
  },
  {
   "cell_type": "code",
   "execution_count": null,
   "metadata": {
    "scrolled": true
   },
   "outputs": [],
   "source": [
    "df_tn_movie_budgets['release_date'] = pd.to_datetime(df_tn_movie_budgets['release_date'])\n",
    "df_tmdb_movies['release_date'] = pd.to_datetime(df_tmdb_movies['release_date'])\n",
    "tn_tmdb_merged_df = df_tmdb_movies.merge(df_tn_movie_budgets, how='inner', left_on=['original_title','release_date'], \n",
    "                                         right_on=['movie','release_date'])\n",
    "tn_tmdb_merged_df"
   ]
  },
  {
   "cell_type": "markdown",
   "metadata": {},
   "source": [
    "First, we expanded every element in the list of the cleaned `genre_id`. Then mapped each value based on their keys from the TMDB API Dictionary."
   ]
  },
  {
   "cell_type": "code",
   "execution_count": null,
   "metadata": {},
   "outputs": [],
   "source": [
    "def genreID_coverter(string):\n",
    "    if string is not None and len(string) > 0:\n",
    "        return tmdb_genre_dict[string]"
   ]
  },
  {
   "cell_type": "code",
   "execution_count": null,
   "metadata": {},
   "outputs": [],
   "source": [
    "df_tmdb_movies_genresplit = pd.DataFrame(tn_tmdb_merged_df['genre'].values.tolist())\n",
    "\n",
    "for i in range (6):\n",
    "    df_tmdb_movies_genresplit[i] = df_tmdb_movies_genresplit[i].apply(genreID_coverter)\n",
    "\n",
    "df_tmdb_movies_genresplit.columns = ['genre1', 'genre2','genre3','genre4','genre5','genre6', 'genre7']\n",
    "\n",
    "df_tmdb_movies_genresplit"
   ]
  },
  {
   "cell_type": "code",
   "execution_count": null,
   "metadata": {
    "scrolled": true
   },
   "outputs": [],
   "source": [
    "df_MAIN = pd.concat([tn_tmdb_merged_df, df_tmdb_movies_genresplit], axis=1)\n",
    "df_MAIN.drop(columns=['Unnamed: 0', 'id_x', 'genre_ids', 'domestic_gross', 'worldwide_gross','production_budget', 'id_y', \n",
    "                     'original_title', 'movie'], inplace=True)\n",
    "\n",
    "\n",
    "def queryGenre(genreTypeString):\n",
    "    dataFrameToBeReturned = df_MAIN.query(\"\"\"\n",
    "                (genre1 == '{}') or \\\n",
    "                (genre2 == '{}') or \\\n",
    "                (genre3 == '{}') or \\\n",
    "                (genre4 == '{}') or \\\n",
    "                (genre5 == '{}') or \\\n",
    "                (genre6 == '{}') or \\\n",
    "                (genre7 == '{}')\n",
    "                \"\"\".format(genreTypeString,genreTypeString,genreTypeString,genreTypeString,\n",
    "                           genreTypeString,genreTypeString,genreTypeString))\n",
    "    return dataFrameToBeReturned\n",
    "\n",
    "genre_df_dictionary = {}\n",
    "for key, value in tmdb_genre_dict.items():\n",
    "    genre_df_dictionary[value] = (queryGenre(value))\n",
    "\n",
    "genre_df_dictionary['Western']"
   ]
  },
  {
   "cell_type": "code",
   "execution_count": null,
   "metadata": {
    "scrolled": true
   },
   "outputs": [],
   "source": [
    "df_MAIN.corr()"
   ]
  },
  {
   "cell_type": "code",
   "execution_count": null,
   "metadata": {
    "scrolled": false
   },
   "outputs": [],
   "source": [
    "df_genre_counts = pd.DataFrame(columns=['genre', 'genre_counts'])\n",
    "\n",
    "new_dict = {}\n",
    "for key, value in genre_df_dictionary.items():\n",
    "    new_dict[key] = len(genre_df_dictionary[key])\n",
    "\n",
    "value_df_genre_counts = df_genre_counts.append(new_dict, ignore_index=True).T.iloc[2:]\n",
    "\n",
    "value_df_genre_counts"
   ]
  },
  {
   "cell_type": "code",
   "execution_count": null,
   "metadata": {
    "scrolled": false
   },
   "outputs": [],
   "source": [
    "value_df_genre_counts.sort_values(by=0, ascending=False)"
   ]
  },
  {
   "cell_type": "code",
   "execution_count": null,
   "metadata": {},
   "outputs": [],
   "source": [
    "type(genre_df_dictionary['Action']['production_budget_edited'][1])"
   ]
  },
  {
   "cell_type": "code",
   "execution_count": null,
   "metadata": {
    "scrolled": false
   },
   "outputs": [],
   "source": [
    "x_slope1 = np.linspace(0,4000)\n",
    "y_slope1 = np.linspace(0,4000)\n",
    "\n",
    "col_nums = 4\n",
    "row_nums = 5\n",
    "plt.figure(figsize=(20, 20))\n",
    "for i, (key, v) in enumerate(genre_df_dictionary.items(), 1):\n",
    "    plt.subplot(row_nums, col_nums, i)\n",
    "    try:\n",
    "        p = sns.scatterplot(data=v, x='production_budget_edited', y='worldwide_gross_edited').set(\n",
    "            xlim=(genre_df_dictionary[key]['production_budget_edited'].min(), genre_df_dictionary[key]['production_budget_edited'].max()), \n",
    "            ylim=(genre_df_dictionary[key]['worldwide_gross_edited'].min(), genre_df_dictionary[key]['worldwide_gross_edited'].max()))\n",
    "        plt.plot(x_slope1, y_slope1, color='r')\n",
    "        plt.title(key)\n",
    "    except:\n",
    "        continue\n",
    "plt.tight_layout()"
   ]
  },
  {
   "cell_type": "code",
   "execution_count": null,
   "metadata": {},
   "outputs": [],
   "source": [
    "# for key in genre_df_dictionary.keys():\n",
    "#     print(key, genre_df_dictionary[key].corr())\n",
    "   \n",
    "\n",
    "genre_df_dictionary['Action'].corr()\n",
    "\n",
    "\n",
    "    \n",
    "# corr_dict_by_genre = {}\n",
    "# for key, value in genre_df_dictionary.items():\n",
    "#     corr_dict_by_genre[key] = genre_df_dictionary[key].corr"
   ]
  },
  {
   "cell_type": "code",
   "execution_count": null,
   "metadata": {},
   "outputs": [],
   "source": [
    "season_code_arr = [month%12 // 3 + 1 for month in range(1, 13)]\n",
    "season_code_to_month = {1: 'Winter',\n",
    "                         2: 'Spring',\n",
    "                         3: 'Summer',\n",
    "                         4: 'Autumn'}\n",
    "\n",
    "\n",
    "df_season_test = df_MAIN\n",
    "\n",
    "df_season_test['season'] = pd.DatetimeIndex(df_season_test['release_date']).month\n",
    "df_season_test"
   ]
  },
  {
   "cell_type": "code",
   "execution_count": null,
   "metadata": {
    "scrolled": true
   },
   "outputs": [],
   "source": [
    "df_season_test['season'] = df_season_test['season'] %12 // 3 + 1\n",
    "df_season_test"
   ]
  },
  {
   "cell_type": "code",
   "execution_count": null,
   "metadata": {},
   "outputs": [],
   "source": [
    "df_season_test['season'] = df_season_test.replace({'season': season_code_to_month})\n",
    "\n",
    "df_season_test.head()"
   ]
  },
  {
   "cell_type": "code",
   "execution_count": null,
   "metadata": {},
   "outputs": [],
   "source": [
    "list_of_genres = ['Drama', 'Comedy', 'Thriller', 'Action', 'Adventure', 'Crime', 'Science Fiction', 'Romance', 'Horror',\n",
    "                 'Family', 'Fantasy', 'Mystery']\n",
    "\n",
    "col_nums = 3\n",
    "row_nums = 4\n",
    "plt.figure(figsize=(20, 20))\n",
    "for key in list_of_genres:\n",
    "    p = sns.scatterplot(data=genre_df_dictionary[key], x='production_budget_edited', y='worldwide_gross_edited')\n",
    "    plt.title(key)\n",
    "\n",
    "plt.tight_layout()"
   ]
  },
  {
   "cell_type": "code",
   "execution_count": null,
   "metadata": {},
   "outputs": [],
   "source": []
  }
 ],
 "metadata": {
  "kernelspec": {
   "display_name": "learn-env",
   "language": "python",
   "name": "learn-env"
  },
  "language_info": {
   "codemirror_mode": {
    "name": "ipython",
    "version": 3
   },
   "file_extension": ".py",
   "mimetype": "text/x-python",
   "name": "python",
   "nbconvert_exporter": "python",
   "pygments_lexer": "ipython3",
   "version": "3.8.5"
  }
 },
 "nbformat": 4,
 "nbformat_minor": 4
}
