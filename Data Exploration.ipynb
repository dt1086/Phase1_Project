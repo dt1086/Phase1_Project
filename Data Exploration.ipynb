{
 "cells": [
  {
   "cell_type": "markdown",
   "metadata": {},
   "source": [
    "# Data Exploration - this is updated 2:14PM"
   ]
  },
  {
   "cell_type": "markdown",
   "metadata": {},
   "source": [
    "## 1. Importing data into DataFrames"
   ]
  },
  {
   "cell_type": "code",
   "execution_count": 1,
   "metadata": {},
   "outputs": [],
   "source": [
    "import pandas as pd\n",
    "import seaborn as sns\n",
    "import matplotlib.pyplot as plt"
   ]
  },
  {
   "cell_type": "code",
   "execution_count": 2,
   "metadata": {},
   "outputs": [],
   "source": [
    "df_mojo_gross = pd.read_csv('dsc-phase-1-project/zippedData/bom.movie_gross.csv.gz')\n",
    "df_imdb_name_basics = pd.read_csv('dsc-phase-1-project/zippedData/imdb.name.basics.csv.gz')\n",
    "df_imdb_title = pd.read_csv('dsc-phase-1-project/zippedData/imdb.title.akas.csv.gz')\n",
    "df_imdb_basics = pd.read_csv('dsc-phase-1-project/zippedData/imdb.title.basics.csv.gz')\n",
    "df_imdb_title_crew = pd.read_csv('dsc-phase-1-project/zippedData/imdb.title.crew.csv.gz')\n",
    "df_imdb_title_principals = pd.read_csv('dsc-phase-1-project/zippedData/imdb.title.principals.csv.gz')\n",
    "df_imdb_title_ratings = pd.read_csv('dsc-phase-1-project/zippedData/imdb.title.ratings.csv.gz')\n",
    "df_rt_movie_info = pd.read_csv('dsc-phase-1-project/zippedData/rt.movie_info.tsv.gz', sep='\\t', encoding = 'unicode_escape')\n",
    "df_rt_reviews = pd.read_csv('dsc-phase-1-project/zippedData/rt.reviews.tsv.gz', sep='\\t', encoding = 'unicode_escape')\n",
    "df_tmdb_movies = pd.read_csv('dsc-phase-1-project/zippedData/tmdb.movies.csv.gz')\n",
    "df_tn_movie_budgets = pd.read_csv('dsc-phase-1-project/zippedData/tn.movie_budgets.csv.gz')"
   ]
  },
  {
   "cell_type": "markdown",
   "metadata": {},
   "source": [
    "Previewing the raw data:"
   ]
  },
  {
   "cell_type": "code",
   "execution_count": 9,
   "metadata": {},
   "outputs": [],
   "source": [
    "list_of_data = [df_mojo_gross, df_imdb_name_basics, df_imdb_title, df_imdb_basics, df_imdb_title_crew,\n",
    "               df_imdb_title_principals, df_imdb_title_ratings, df_rt_movie_info, df_rt_reviews, df_tmdb_movies, \n",
    "                df_tn_movie_budgets]\n",
    "\n",
    "for element in list_of_data:\n",
    "    element.head()"
   ]
  },
  {
   "cell_type": "markdown",
   "metadata": {},
   "source": [
    "## 2. Previewing DataFrames"
   ]
  },
  {
   "cell_type": "code",
   "execution_count": null,
   "metadata": {
    "scrolled": true
   },
   "outputs": [],
   "source": [
    "for df in list_of_data:\n",
    "    display(df.head())"
   ]
  },
  {
   "cell_type": "code",
   "execution_count": null,
   "metadata": {},
   "outputs": [],
   "source": [
    "for df in list_of_data:\n",
    "    display(df.shape)"
   ]
  },
  {
   "cell_type": "markdown",
   "metadata": {},
   "source": [
    "## 3. Visualizing DataFrames"
   ]
  },
  {
   "cell_type": "code",
   "execution_count": null,
   "metadata": {
    "scrolled": true
   },
   "outputs": [],
   "source": [
    "df_tn_movie_budgets.info()"
   ]
  },
  {
   "cell_type": "markdown",
   "metadata": {},
   "source": [
    "Converting production_budget, domestic_gross and worldwide_gross from strings into floats:"
   ]
  },
  {
   "cell_type": "code",
   "execution_count": null,
   "metadata": {
    "scrolled": true
   },
   "outputs": [],
   "source": [
    "df_tn_movie_budgets['production_budget_edited'] = df_tn_movie_budgets.production_budget.str.replace('$', '')\n",
    "df_tn_movie_budgets['production_budget_edited'] = df_tn_movie_budgets['production_budget_edited'].str.replace(',', '')\n",
    "df_tn_movie_budgets['production_budget_edited'] = df_tn_movie_budgets['production_budget_edited'].astype(float)\n",
    "\n",
    "df_tn_movie_budgets['domestic_gross_edited'] = df_tn_movie_budgets.domestic_gross.str.replace('$', '')\n",
    "df_tn_movie_budgets['domestic_gross_edited'] = df_tn_movie_budgets['domestic_gross_edited'].str.replace(',', '')\n",
    "df_tn_movie_budgets['domestic_gross_edited'] = df_tn_movie_budgets['domestic_gross_edited'].astype(float)\n",
    "\n",
    "df_tn_movie_budgets['worldwide_gross_edited'] = df_tn_movie_budgets.worldwide_gross.str.replace('$', '')\n",
    "df_tn_movie_budgets['worldwide_gross_edited'] = df_tn_movie_budgets['worldwide_gross_edited'].str.replace(',', '')\n",
    "df_tn_movie_budgets['worldwide_gross_edited'] = df_tn_movie_budgets['worldwide_gross_edited'].astype(float)\n",
    "\n",
    "df_tn_movie_budgets.head()"
   ]
  },
  {
   "cell_type": "markdown",
   "metadata": {},
   "source": [
    "Making the basis in $M."
   ]
  },
  {
   "cell_type": "code",
   "execution_count": null,
   "metadata": {},
   "outputs": [],
   "source": [
    "df_tn_movie_budgets['production_budget_edited'] = df_tn_movie_budgets['production_budget_edited'] / 1000000\n",
    "df_tn_movie_budgets['domestic_gross_edited'] = df_tn_movie_budgets['domestic_gross_edited'] / 1000000\n",
    "df_tn_movie_budgets['worldwide_gross_edited'] = df_tn_movie_budgets['worldwide_gross_edited'] / 1000000\n",
    "\n",
    "df_tn_movie_budgets.head()"
   ]
  },
  {
   "cell_type": "code",
   "execution_count": null,
   "metadata": {},
   "outputs": [],
   "source": [
    "ax = sns.scatterplot(x=df_tn_movie_budgets['production_budget_edited'], y=df_tn_movie_budgets['worldwide_gross_edited'])\n",
    "\n",
    "ax.set_title('Production Budget vs. Worldwide Gross ($M)')\n",
    "ax.set_ylabel('Worldwide Gross ($M)')\n",
    "ax.set_xlabel('Production Budget ($M)')\n",
    "\n",
    "ax.text(df_tn_movie_budgets.production_budget_edited[df_tn_movie_budgets.movie=='Avatar'],\n",
    "        df_tn_movie_budgets.worldwide_gross_edited[df_tn_movie_budgets.movie=='Avatar'],\n",
    "         \"Avatar\", color='red');"
   ]
  },
  {
   "cell_type": "markdown",
   "metadata": {},
   "source": [
    "Calculating an ROI figure."
   ]
  },
  {
   "cell_type": "code",
   "execution_count": null,
   "metadata": {},
   "outputs": [],
   "source": [
    "df_tn_movie_budgets['ROI'] = df_tn_movie_budgets['worldwide_gross_edited'] / df_tn_movie_budgets['production_budget_edited']\n",
    "\n",
    "df_tn_movie_budgets.head()"
   ]
  },
  {
   "cell_type": "code",
   "execution_count": null,
   "metadata": {
    "scrolled": true
   },
   "outputs": [],
   "source": [
    "df_tn_movie_budgets_ROIaboveX = df_tn_movie_budgets[df_tn_movie_budgets['ROI'] >= 5]\n",
    "\n",
    "df_tn_movie_budgets_ROIaboveX.head()"
   ]
  },
  {
   "cell_type": "markdown",
   "metadata": {},
   "source": [
    "Showing movies with ROI > 5"
   ]
  },
  {
   "cell_type": "code",
   "execution_count": null,
   "metadata": {},
   "outputs": [],
   "source": [
    "fig, ax = plt.subplots()\n",
    "\n",
    "ax.scatter(x=df_tn_movie_budgets['production_budget_edited'], y=df_tn_movie_budgets['worldwide_gross_edited'])\n",
    "ax.scatter(x=df_tn_movie_budgets_ROIaboveX['production_budget_edited'], \n",
    "           y=df_tn_movie_budgets_ROIaboveX['worldwide_gross_edited'], label='ROI Above 5')\n",
    "\n",
    "ax.set_title('Production Budget vs. Worldwide Gross ($M)')\n",
    "ax.set_ylabel('Worldwide Gross ($M)')\n",
    "ax.set_xlabel('Production Budget ($M)')\n",
    "ax.legend(loc='upper left');"
   ]
  },
  {
   "cell_type": "code",
   "execution_count": null,
   "metadata": {
    "scrolled": true
   },
   "outputs": [],
   "source": [
    "df_tn_movie_budgets_ROIaboveX.sort_values('ROI', ascending=False)"
   ]
  },
  {
   "cell_type": "markdown",
   "metadata": {},
   "source": [
    "Only interested in relevant movies - post 2009"
   ]
  },
  {
   "cell_type": "code",
   "execution_count": null,
   "metadata": {
    "scrolled": false
   },
   "outputs": [],
   "source": [
    "df_tn_movie_budgets_ROIaboveX['Year'] = df_tn_movie_budgets_ROIaboveX['release_date'].str[-4:]*1\n",
    "df_tn_movie_budgets_ROIaboveX['Year'] = df_tn_movie_budgets_ROIaboveX['Year'].astype(int)\n",
    "df_tn_movie_budgets_ROIaboveX.head()"
   ]
  },
  {
   "cell_type": "code",
   "execution_count": null,
   "metadata": {},
   "outputs": [],
   "source": [
    "df_tn_movie_budgets_post2009 = df_tn_movie_budgets_ROIaboveX[df_tn_movie_budgets_ROIaboveX['Year'] >= 2009]\n",
    "df_tn_movie_budgets_post2009.head()"
   ]
  },
  {
   "cell_type": "code",
   "execution_count": null,
   "metadata": {},
   "outputs": [],
   "source": [
    "df_tn_movie_budgets_post2009.shape"
   ]
  },
  {
   "cell_type": "code",
   "execution_count": null,
   "metadata": {
    "scrolled": true
   },
   "outputs": [],
   "source": [
    "df_tmdb_movies.head()"
   ]
  },
  {
   "cell_type": "markdown",
   "metadata": {},
   "source": [
    "In order to translte the genre_ids into meaningful genre names, we must retrieve the genre key from TMDB:"
   ]
  },
  {
   "cell_type": "code",
   "execution_count": null,
   "metadata": {},
   "outputs": [],
   "source": [
    "api_key = \"d012e23fce658ca5d5707ca650488781\"\n",
    "\n",
    "import requests\n",
    "\n",
    "url = 'https://api.themoviedb.org/3/genre/movie/list?api_key={}&language=en-US'.format(api_key)\n",
    "\n",
    "tmdb_genre = requests.get(url)\n",
    "print(tmdb_genre)\n",
    "print(type(tmdb_genre.content))\n",
    "print(tmdb_genre.text)"
   ]
  },
  {
   "cell_type": "code",
   "execution_count": null,
   "metadata": {},
   "outputs": [],
   "source": [
    "tmdb_genre = tmdb_genre.json()\n",
    "tmdb_genre"
   ]
  },
  {
   "cell_type": "code",
   "execution_count": null,
   "metadata": {},
   "outputs": [],
   "source": [
    "tmdb_genre_dict = {}\n",
    "\n",
    "for x in range(len(tmdb_genre['genres'])):\n",
    "    entry = {tmdb_genre['genres'][x]['id']: tmdb_genre['genres'][x]['name']}\n",
    "    tmdb_genre_dict.update(entry)\n",
    "\n",
    "tmdb_genre_dict"
   ]
  },
  {
   "cell_type": "code",
   "execution_count": null,
   "metadata": {},
   "outputs": [],
   "source": [
    "keys_values = tmdb_genre_dict.items()\n",
    "\n",
    "tmdb_genre_dict = {str(key): str(value) for key, value in keys_values}\n",
    "tmdb_genre_dict\n",
    "#types1 = [type(k) for k in tmdb_genre_dict.keys()]\n",
    "#types1"
   ]
  },
  {
   "cell_type": "code",
   "execution_count": null,
   "metadata": {},
   "outputs": [],
   "source": [
    "#df_tmdb_movies['genre'] = df_tmdb_movies['genre'].map(tmdb_genre_dict)\n",
    "#df_tmdb_movies.head()"
   ]
  },
  {
   "cell_type": "code",
   "execution_count": null,
   "metadata": {},
   "outputs": [],
   "source": [
    "type(df_tmdb_movies['genre'][0])"
   ]
  },
  {
   "cell_type": "code",
   "execution_count": null,
   "metadata": {},
   "outputs": [],
   "source": [
    "df_tmdb_movies.head()"
   ]
  },
  {
   "cell_type": "code",
   "execution_count": null,
   "metadata": {},
   "outputs": [],
   "source": [
    "df_tmdb_movies['genre_ids'][0]"
   ]
  },
  {
   "cell_type": "code",
   "execution_count": null,
   "metadata": {
    "scrolled": true
   },
   "outputs": [],
   "source": [
    "df_tmdb_movies['genre'] = df_tmdb_movies['genre_ids'].str.strip('[]')\n",
    "df_tmdb_movies['genre'] = df_tmdb_movies['genre'].str.replace(' ', '')\n",
    "df_tmdb_movies['genre'] = df_tmdb_movies['genre'].str.split(',')\n",
    "\n",
    "df_tmdb_movies.head()"
   ]
  },
  {
   "cell_type": "code",
   "execution_count": null,
   "metadata": {},
   "outputs": [],
   "source": [
    "df_tmdb_movies_genresplit = pd.DataFrame(df_tmdb_movies['genre'].values.tolist())\n",
    "\n",
    "for i in range (6):\n",
    "    df_tmdb_movies_genresplit[i] = df_tmdb_movies_genresplit[i].apply(genreID_coverter)\n",
    "\n",
    "df_tmdb_movies_genresplit.columns = ['genre1', 'genre2','genre3','genre4','genre5','genre6', 'genre7']\n",
    "\n",
    "df_tmdb_movies_genresplit"
   ]
  },
  {
   "cell_type": "code",
   "execution_count": null,
   "metadata": {},
   "outputs": [],
   "source": [
    "df_combined = pd.concat([df_tmdb_movies, df_tmdb_movies_genresplit], axis=1)\n",
    "df_combined"
   ]
  },
  {
   "cell_type": "code",
   "execution_count": null,
   "metadata": {},
   "outputs": [],
   "source": [
    "def genreID_coverter(string):\n",
    "    if string is not None and len(string) > 0:\n",
    "        return tmdb_genre_dict[string]"
   ]
  },
  {
   "cell_type": "code",
   "execution_count": null,
   "metadata": {},
   "outputs": [],
   "source": []
  },
  {
   "cell_type": "code",
   "execution_count": null,
   "metadata": {},
   "outputs": [],
   "source": [
    "df_test = df_tmdb_movies[['genre']]\n",
    "\n",
    "#df_test['genre_actual'] = df_test['genre'].replace(tmdb_genre_dict, inplace=True)\n",
    "\n",
    "df_test2 = pd.DataFrame(df_test['genre'].values.tolist())\n",
    "\n",
    "string = '12'\n",
    "\n",
    "\n",
    "\n",
    "#genreID_coverter(string)\n",
    "\n",
    "\n",
    "df_test2[1] = df_test2[1].apply(genreID_coverter)\n",
    "\n",
    "df_test2\n",
    "\n",
    "THIS IS A TEST CELL"
   ]
  },
  {
   "cell_type": "code",
   "execution_count": null,
   "metadata": {},
   "outputs": [],
   "source": [
    "dic = {1:'Action', 2:'Comedy', 3:'Adventure'}\n",
    "\n",
    "def list_lookup_to_dict(lst):\n",
    "    new_list = []\n",
    "    for element in lst:\n",
    "        if element in tmdb_genre_dict.keys():\n",
    "            new_list.append(tmdb_genre_dict[element])\n",
    "    return new_list\n",
    "            \n",
    "list_lookup_to_dict(lst)\n"
   ]
  },
  {
   "cell_type": "code",
   "execution_count": null,
   "metadata": {},
   "outputs": [],
   "source": [
    "lst = [1,2,3,5,7]\n",
    "dic = {1:'Action', 2:'Comedy', 3:'Adventure'}\n",
    "\n",
    "def check_list_to_dict(lst):\n",
    "    new_list = []\n",
    "    for i in lst:\n",
    "        if i in tmdb_genre_dict.keys():\n",
    "            new_list.append(tmdb_genre_dict[i])\n",
    "    return new_list\n",
    "\n",
    "check_list_to_dict(lst)\n",
    "\n",
    "df_genre_test = pd.DataFrame(lst, columns=['genre_code'])\n",
    "\n",
    "#df_genre_test['genre'] = df_genre_test['genre_code'].apply(check_list_to_dict)\n",
    "\n",
    "df_genre_test.head()"
   ]
  },
  {
   "cell_type": "code",
   "execution_count": null,
   "metadata": {
    "scrolled": true
   },
   "outputs": [],
   "source": [
    "df_tn_movie_budgets['release_date'] = pd.to_datetime(df_tn_movie_budgets['release_date'])\n",
    "df_tmdb_movies['release_date'] = pd.to_datetime(df_tmdb_movies['release_date'])\n",
    "tn_tmdb_merged_df = df_tmdb_movies.merge(df_tn_movie_budgets, how='left', left_on=['original_title','release_date'], \n",
    "                                         right_on=['movie','release_date'])\n",
    "tn_tmdb_merged_df"
   ]
  },
  {
   "cell_type": "code",
   "execution_count": null,
   "metadata": {},
   "outputs": [],
   "source": [
    "df_MAIN = pd.concat([tn_tmdb_merged_df, df_tmdb_movies_genresplit], axis=1)\n",
    "df_MAIN"
   ]
  },
  {
   "cell_type": "code",
   "execution_count": null,
   "metadata": {},
   "outputs": [],
   "source": [
    "type(df_tmdb_movies['genre'][0])"
   ]
  },
  {
   "cell_type": "code",
   "execution_count": null,
   "metadata": {},
   "outputs": [],
   "source": [
    "#df_tmdb_movies = pd.DataFrame(df_tmdb_movies['genre'].to_list(), columns=['genre1', 'genre2', 'genre3', 'genre4'])\n",
    "\n",
    "df_tmdb_movies['genre_actual'] = df_tmdb_movies['genre'].apply(list_lookup_to_dict)\n",
    "\n",
    "df_tmdb_movies['genre'].apply(list_lookup_to_dict)"
   ]
  },
  {
   "cell_type": "code",
   "execution_count": null,
   "metadata": {},
   "outputs": [],
   "source": [
    "#for key, value in tmdb_genre_dict.items():\n",
    "#    df_tmdb_movies[value] = 0\n",
    "\n",
    "#df_tmdb_movies.head()"
   ]
  },
  {
   "cell_type": "code",
   "execution_count": null,
   "metadata": {},
   "outputs": [],
   "source": [
    "df_tmdb_movies.merge(df_tn_movie_budgets, how='inner', left_on=['original_title'], right_on=['movie'])"
   ]
  },
  {
   "cell_type": "code",
   "execution_count": null,
   "metadata": {},
   "outputs": [],
   "source": []
  }
 ],
 "metadata": {
  "kernelspec": {
   "display_name": "learn-env",
   "language": "python",
   "name": "learn-env"
  },
  "language_info": {
   "codemirror_mode": {
    "name": "ipython",
    "version": 3
   },
   "file_extension": ".py",
   "mimetype": "text/x-python",
   "name": "python",
   "nbconvert_exporter": "python",
   "pygments_lexer": "ipython3",
   "version": "3.8.5"
  }
 },
 "nbformat": 4,
 "nbformat_minor": 4
}
